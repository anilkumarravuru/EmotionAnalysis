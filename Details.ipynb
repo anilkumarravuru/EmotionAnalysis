{
 "cells": [
  {
   "cell_type": "code",
   "execution_count": 25,
   "metadata": {},
   "outputs": [
    {
     "data": {
      "text/plain": [
       "Index(['fb_id', 'link', 'fb_like', 'fb_angry', 'fb_thankful', 'fb_haha',\n",
       "       'type', 'description', 'page_id', 'fb_sad', 'external_picture',\n",
       "       'shares', 'id', 'database', 'message', 'time_created', 'fb_wow',\n",
       "       'fanpagelink', 'name', 'num_comments', 'fb_love'],\n",
       "      dtype='object')"
      ]
     },
     "execution_count": 25,
     "metadata": {},
     "output_type": "execute_result"
    }
   ],
   "source": [
    "# Anil Kumar Ravuru\n",
    "\n",
    "import pandas as pd\n",
    "import numpy as np\n",
    "import warnings\n",
    "warnings.filterwarnings('ignore')\n",
    "df = pd.read_json('../Project/fb_data.json')\n",
    "df.columns"
   ]
  },
  {
   "cell_type": "code",
   "execution_count": 26,
   "metadata": {},
   "outputs": [
    {
     "data": {
      "text/html": [
       "<div>\n",
       "<style scoped>\n",
       "    .dataframe tbody tr th:only-of-type {\n",
       "        vertical-align: middle;\n",
       "    }\n",
       "\n",
       "    .dataframe tbody tr th {\n",
       "        vertical-align: top;\n",
       "    }\n",
       "\n",
       "    .dataframe thead th {\n",
       "        text-align: right;\n",
       "    }\n",
       "</style>\n",
       "<table border=\"1\" class=\"dataframe\">\n",
       "  <thead>\n",
       "    <tr style=\"text-align: right;\">\n",
       "      <th></th>\n",
       "      <th>description</th>\n",
       "      <th>message</th>\n",
       "      <th>fb_like</th>\n",
       "      <th>fb_angry</th>\n",
       "      <th>fb_thankful</th>\n",
       "      <th>fb_haha</th>\n",
       "      <th>fb_sad</th>\n",
       "      <th>fb_wow</th>\n",
       "      <th>fb_love</th>\n",
       "    </tr>\n",
       "  </thead>\n",
       "  <tbody>\n",
       "    <tr>\n",
       "      <td>0</td>\n",
       "      <td>But how is this about the burger?</td>\n",
       "      <td>A proof that makeup and sorcery go hand in han...</td>\n",
       "      <td>1878</td>\n",
       "      <td>1</td>\n",
       "      <td>0</td>\n",
       "      <td>391</td>\n",
       "      <td>0</td>\n",
       "      <td>3</td>\n",
       "      <td>22</td>\n",
       "    </tr>\n",
       "    <tr>\n",
       "      <td>1</td>\n",
       "      <td>Click to see the pic and write a comment...</td>\n",
       "      <td>My imaginary relationship with Tom Hiddleston ...</td>\n",
       "      <td>7606</td>\n",
       "      <td>5</td>\n",
       "      <td>0</td>\n",
       "      <td>1629</td>\n",
       "      <td>8</td>\n",
       "      <td>13</td>\n",
       "      <td>269</td>\n",
       "    </tr>\n",
       "    <tr>\n",
       "      <td>2</td>\n",
       "      <td>49 young dancers representing the 49 people lo...</td>\n",
       "      <td>Another amazing and breathtaking video from Si...</td>\n",
       "      <td>25304</td>\n",
       "      <td>6</td>\n",
       "      <td>0</td>\n",
       "      <td>95</td>\n",
       "      <td>44</td>\n",
       "      <td>367</td>\n",
       "      <td>2065</td>\n",
       "    </tr>\n",
       "    <tr>\n",
       "      <td>3</td>\n",
       "      <td>Click to see the pic and write a comment...</td>\n",
       "      <td>They also remind you how great your parents ar...</td>\n",
       "      <td>3452</td>\n",
       "      <td>2</td>\n",
       "      <td>0</td>\n",
       "      <td>607</td>\n",
       "      <td>0</td>\n",
       "      <td>1</td>\n",
       "      <td>62</td>\n",
       "    </tr>\n",
       "    <tr>\n",
       "      <td>4</td>\n",
       "      <td>Is it the breast idea ever?</td>\n",
       "      <td>Not sure of if it will help, or cause more acc...</td>\n",
       "      <td>6454</td>\n",
       "      <td>12</td>\n",
       "      <td>0</td>\n",
       "      <td>1245</td>\n",
       "      <td>8</td>\n",
       "      <td>93</td>\n",
       "      <td>162</td>\n",
       "    </tr>\n",
       "  </tbody>\n",
       "</table>\n",
       "</div>"
      ],
      "text/plain": [
       "                                         description  \\\n",
       "0                  But how is this about the burger?   \n",
       "1        Click to see the pic and write a comment...   \n",
       "2  49 young dancers representing the 49 people lo...   \n",
       "3        Click to see the pic and write a comment...   \n",
       "4                        Is it the breast idea ever?   \n",
       "\n",
       "                                             message  fb_like  fb_angry  \\\n",
       "0  A proof that makeup and sorcery go hand in han...     1878         1   \n",
       "1  My imaginary relationship with Tom Hiddleston ...     7606         5   \n",
       "2  Another amazing and breathtaking video from Si...    25304         6   \n",
       "3  They also remind you how great your parents ar...     3452         2   \n",
       "4  Not sure of if it will help, or cause more acc...     6454        12   \n",
       "\n",
       "   fb_thankful  fb_haha  fb_sad  fb_wow  fb_love  \n",
       "0            0      391       0       3       22  \n",
       "1            0     1629       8      13      269  \n",
       "2            0       95      44     367     2065  \n",
       "3            0      607       0       1       62  \n",
       "4            0     1245       8      93      162  "
      ]
     },
     "execution_count": 26,
     "metadata": {},
     "output_type": "execute_result"
    }
   ],
   "source": [
    "desired_fields = ['description', 'message', 'fb_like', 'fb_angry', 'fb_thankful', 'fb_haha', \n",
    "                  'fb_sad', 'fb_wow', 'fb_love']\n",
    "xdf = df[desired_fields]\n",
    "xdf.head()"
   ]
  },
  {
   "cell_type": "code",
   "execution_count": 27,
   "metadata": {},
   "outputs": [
    {
     "data": {
      "text/plain": [
       "Index(['description', 'message', 'fb_like', 'fb_angry', 'fb_thankful',\n",
       "       'fb_haha', 'fb_sad', 'fb_wow', 'fb_love', 'top_reaction_count',\n",
       "       'top_reaction'],\n",
       "      dtype='object')"
      ]
     },
     "execution_count": 27,
     "metadata": {},
     "output_type": "execute_result"
    }
   ],
   "source": [
    "reactions = ['fb_angry', 'fb_haha', 'fb_sad', 'fb_wow', 'fb_love']\n",
    "xdf['top_reaction_count'] = xdf.apply(lambda row: max(row['fb_angry'], row['fb_haha'], row['fb_sad'], row['fb_wow'], \n",
    "                                                row['fb_love']), axis=1)\n",
    "xdf['top_reaction'] = xdf.apply(lambda row: reactions[[row['fb_angry'], row['fb_haha'], \n",
    "                                                             row['fb_sad'], row['fb_wow'], \n",
    "                                                             row['fb_love']].index(row['top_reaction_count'])], axis=1)\n",
    "xdf.columns"
   ]
  },
  {
   "cell_type": "code",
   "execution_count": 28,
   "metadata": {},
   "outputs": [],
   "source": [
    "plot_df = xdf.groupby('top_reaction').count()['message']"
   ]
  },
  {
   "cell_type": "code",
   "execution_count": 33,
   "metadata": {},
   "outputs": [
    {
     "data": {
      "image/png": "[encoded data removed]",
      "text/plain": [
       "<Figure size 720x360 with 1 Axes>"
      ]
     },
     "metadata": {
      "needs_background": "light"
     },
     "output_type": "display_data"
    }
   ],
   "source": [
    "import matplotlib.pyplot as plt\n",
    "plt.figure(figsize=(10,5))\n",
    "plot_df.plot(x ='Reaction', y='Frequency', kind = 'bar')\n",
    "plt.show()\n",
    "# plt.savefig('Distribution.pdf')"
   ]
  },
  {
   "cell_type": "code",
   "execution_count": 40,
   "metadata": {},
   "outputs": [
    {
     "data": {
      "text/plain": [
       "<matplotlib.axes._subplots.AxesSubplot at 0x12d47a7d0>"
      ]
     },
     "execution_count": 40,
     "metadata": {},
     "output_type": "execute_result"
    },
    {
     "data": {
      "image/png": "[encoded data removed]",
      "text/plain": [
       "<Figure size 1440x216 with 1 Axes>"
      ]
     },
     "metadata": {
      "needs_background": "light"
     },
     "output_type": "display_data"
    }
   ],
   "source": [
    "xdf[xdf['top_reaction']=='fb_love']['fb_love'].plot.box()"
   ]
  },
  {
   "cell_type": "code",
   "execution_count": 37,
   "metadata": {},
   "outputs": [
    {
     "data": {
      "text/plain": [
       "<matplotlib.axes._subplots.AxesSubplot at 0x12d429050>"
      ]
     },
     "execution_count": 37,
     "metadata": {},
     "output_type": "execute_result"
    },
    {
     "data": {
      "image/png": "[encoded data removed]",
      "text/plain": [
       "<Figure size 1440x216 with 1 Axes>"
      ]
     },
     "metadata": {
      "needs_background": "light"
     },
     "output_type": "display_data"
    }
   ],
   "source": [
    "xdf[xdf['top_reaction']=='fb_haha']['fb_haha'].plot.box()"
   ]
  },
  {
   "cell_type": "code",
   "execution_count": 38,
   "metadata": {},
   "outputs": [
    {
     "data": {
      "text/plain": [
       "<matplotlib.axes._subplots.AxesSubplot at 0x12d445f90>"
      ]
     },
     "execution_count": 38,
     "metadata": {},
     "output_type": "execute_result"
    },
    {
     "data": {
      "image/png": "[encoded data removed]",
      "text/plain": [
       "<Figure size 1440x216 with 1 Axes>"
      ]
     },
     "metadata": {
      "needs_background": "light"
     },
     "output_type": "display_data"
    }
   ],
   "source": [
    "xdf[xdf['top_reaction']=='fb_wow']['fb_wow'].plot.box()"
   ]
  },
  {
   "cell_type": "code",
   "execution_count": 39,
   "metadata": {},
   "outputs": [
    {
     "data": {
      "text/plain": [
       "<matplotlib.axes._subplots.AxesSubplot at 0x12d453e90>"
      ]
     },
     "execution_count": 39,
     "metadata": {},
     "output_type": "execute_result"
    },
    {
     "data": {
      "image/png": "[encoded data removed]",
      "text/plain": [
       "<Figure size 1440x216 with 1 Axes>"
      ]
     },
     "metadata": {
      "needs_background": "light"
     },
     "output_type": "display_data"
    }
   ],
   "source": [
    "xdf[xdf['top_reaction']=='fb_angry']['fb_angry'].plot.box()"
   ]
  },
  {
   "cell_type": "code",
   "execution_count": 41,
   "metadata": {},
   "outputs": [
    {
     "data": {
      "text/plain": [
       "<matplotlib.axes._subplots.AxesSubplot at 0x12d495550>"
      ]
     },
     "execution_count": 41,
     "metadata": {},
     "output_type": "execute_result"
    },
    {
     "data": {
      "image/png": "[encoded data removed]",
      "text/plain": [
       "<Figure size 1440x216 with 1 Axes>"
      ]
     },
     "metadata": {
      "needs_background": "light"
     },
     "output_type": "display_data"
    }
   ],
   "source": [
    "xdf[xdf['top_reaction']=='fb_sad']['fb_sad'].plot.box()"
   ]
  },
  {
   "cell_type": "code",
   "execution_count": null,
   "metadata": {},
   "outputs": [],
   "source": []
  }
 ],
 "metadata": {
  "kernelspec": {
   "display_name": "Python 3",
   "language": "python",
   "name": "python3"
  },
  "language_info": {
   "codemirror_mode": {
    "name": "ipython",
    "version": 3
   },
   "file_extension": ".py",
   "mimetype": "text/x-python",
   "name": "python",
   "nbconvert_exporter": "python",
   "pygments_lexer": "ipython3",
   "version": "3.7.4"
  }
 },
 "nbformat": 4,
 "nbformat_minor": 2
}
