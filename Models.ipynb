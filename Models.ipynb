{
 "cells": [
  {
   "cell_type": "code",
   "execution_count": 88,
   "metadata": {},
   "outputs": [
    {
     "data": {
      "text/html": [
       "<div>\n",
       "<style scoped>\n",
       "    .dataframe tbody tr th:only-of-type {\n",
       "        vertical-align: middle;\n",
       "    }\n",
       "\n",
       "    .dataframe tbody tr th {\n",
       "        vertical-align: top;\n",
       "    }\n",
       "\n",
       "    .dataframe thead th {\n",
       "        text-align: right;\n",
       "    }\n",
       "</style>\n",
       "<table border=\"1\" class=\"dataframe\">\n",
       "  <thead>\n",
       "    <tr style=\"text-align: right;\">\n",
       "      <th></th>\n",
       "      <th>name</th>\n",
       "      <th>description</th>\n",
       "      <th>message</th>\n",
       "      <th>fb_like</th>\n",
       "      <th>fb_angry</th>\n",
       "      <th>fb_thankful</th>\n",
       "      <th>fb_haha</th>\n",
       "      <th>fb_sad</th>\n",
       "      <th>fb_wow</th>\n",
       "      <th>fb_love</th>\n",
       "      <th>top_reaction_count</th>\n",
       "      <th>top_reaction</th>\n",
       "      <th>token_words</th>\n",
       "      <th>custom_token_words</th>\n",
       "    </tr>\n",
       "  </thead>\n",
       "  <tbody>\n",
       "    <tr>\n",
       "      <td>0</td>\n",
       "      <td>This Korean Ad Hilariously Addresses The Power...</td>\n",
       "      <td>But how is this about the burger?</td>\n",
       "      <td>A proof that makeup and sorcery go hand in han...</td>\n",
       "      <td>1878</td>\n",
       "      <td>1</td>\n",
       "      <td>0</td>\n",
       "      <td>391</td>\n",
       "      <td>0</td>\n",
       "      <td>3</td>\n",
       "      <td>22</td>\n",
       "      <td>391</td>\n",
       "      <td>fb_haha</td>\n",
       "      <td>korean ad hilari address power makeup gag.tv</td>\n",
       "      <td>korean ad hilari address power makeup gag.tv</td>\n",
       "    </tr>\n",
       "    <tr>\n",
       "      <td>1</td>\n",
       "      <td>People Are Losing It For The Hiddle-Swift Split</td>\n",
       "      <td>Click to see the pic and write a comment...</td>\n",
       "      <td>My imaginary relationship with Tom Hiddleston ...</td>\n",
       "      <td>7606</td>\n",
       "      <td>5</td>\n",
       "      <td>0</td>\n",
       "      <td>1629</td>\n",
       "      <td>8</td>\n",
       "      <td>13</td>\n",
       "      <td>269</td>\n",
       "      <td>1629</td>\n",
       "      <td>fb_haha</td>\n",
       "      <td>peopl lose hiddl swift split</td>\n",
       "      <td>peopl lose hiddl swift split</td>\n",
       "    </tr>\n",
       "    <tr>\n",
       "      <td>2</td>\n",
       "      <td>Sia Drops \"The Greatest\" Video Featuring 49 Da...</td>\n",
       "      <td>49 young dancers representing the 49 people lo...</td>\n",
       "      <td>Another amazing and breathtaking video from Si...</td>\n",
       "      <td>25304</td>\n",
       "      <td>6</td>\n",
       "      <td>0</td>\n",
       "      <td>95</td>\n",
       "      <td>44</td>\n",
       "      <td>367</td>\n",
       "      <td>2065</td>\n",
       "      <td>2065</td>\n",
       "      <td>fb_love</td>\n",
       "      <td>sia drop greatest video featur dancer pay trib...</td>\n",
       "      <td>sia drop greatest video featur dancer pay trib...</td>\n",
       "    </tr>\n",
       "    <tr>\n",
       "      <td>3</td>\n",
       "      <td>15 Tweets That Remind You Why You Need A Condo...</td>\n",
       "      <td>Click to see the pic and write a comment...</td>\n",
       "      <td>They also remind you how great your parents ar...</td>\n",
       "      <td>3452</td>\n",
       "      <td>2</td>\n",
       "      <td>0</td>\n",
       "      <td>607</td>\n",
       "      <td>0</td>\n",
       "      <td>1</td>\n",
       "      <td>62</td>\n",
       "      <td>607</td>\n",
       "      <td>fb_haha</td>\n",
       "      <td>tweet remind need condom readi</td>\n",
       "      <td>tweet remind need condom readi</td>\n",
       "    </tr>\n",
       "    <tr>\n",
       "      <td>4</td>\n",
       "      <td>Russian Topless Women Help Stop Speeding Drive...</td>\n",
       "      <td>Is it the breast idea ever?</td>\n",
       "      <td>Not sure of if it will help, or cause more acc...</td>\n",
       "      <td>6454</td>\n",
       "      <td>12</td>\n",
       "      <td>0</td>\n",
       "      <td>1245</td>\n",
       "      <td>8</td>\n",
       "      <td>93</td>\n",
       "      <td>162</td>\n",
       "      <td>1245</td>\n",
       "      <td>fb_haha</td>\n",
       "      <td>russian topless woman help stop speed driver c...</td>\n",
       "      <td>russian topless woman help stop speed driver c...</td>\n",
       "    </tr>\n",
       "  </tbody>\n",
       "</table>\n",
       "</div>"
      ],
      "text/plain": [
       "                                                name  \\\n",
       "0  This Korean Ad Hilariously Addresses The Power...   \n",
       "1    People Are Losing It For The Hiddle-Swift Split   \n",
       "2  Sia Drops \"The Greatest\" Video Featuring 49 Da...   \n",
       "3  15 Tweets That Remind You Why You Need A Condo...   \n",
       "4  Russian Topless Women Help Stop Speeding Drive...   \n",
       "\n",
       "                                         description  \\\n",
       "0                  But how is this about the burger?   \n",
       "1        Click to see the pic and write a comment...   \n",
       "2  49 young dancers representing the 49 people lo...   \n",
       "3        Click to see the pic and write a comment...   \n",
       "4                        Is it the breast idea ever?   \n",
       "\n",
       "                                             message  fb_like  fb_angry  \\\n",
       "0  A proof that makeup and sorcery go hand in han...     1878         1   \n",
       "1  My imaginary relationship with Tom Hiddleston ...     7606         5   \n",
       "2  Another amazing and breathtaking video from Si...    25304         6   \n",
       "3  They also remind you how great your parents ar...     3452         2   \n",
       "4  Not sure of if it will help, or cause more acc...     6454        12   \n",
       "\n",
       "   fb_thankful  fb_haha  fb_sad  fb_wow  fb_love  top_reaction_count  \\\n",
       "0            0      391       0       3       22                 391   \n",
       "1            0     1629       8      13      269                1629   \n",
       "2            0       95      44     367     2065                2065   \n",
       "3            0      607       0       1       62                 607   \n",
       "4            0     1245       8      93      162                1245   \n",
       "\n",
       "  top_reaction                                        token_words  \\\n",
       "0      fb_haha       korean ad hilari address power makeup gag.tv   \n",
       "1      fb_haha                       peopl lose hiddl swift split   \n",
       "2      fb_love  sia drop greatest video featur dancer pay trib...   \n",
       "3      fb_haha                     tweet remind need condom readi   \n",
       "4      fb_haha  russian topless woman help stop speed driver c...   \n",
       "\n",
       "                                  custom_token_words  \n",
       "0       korean ad hilari address power makeup gag.tv  \n",
       "1                       peopl lose hiddl swift split  \n",
       "2  sia drop greatest video featur dancer pay trib...  \n",
       "3                     tweet remind need condom readi  \n",
       "4  russian topless woman help stop speed driver c...  "
      ]
     },
     "execution_count": 88,
     "metadata": {},
     "output_type": "execute_result"
    }
   ],
   "source": [
    "# Anil Kumar Ravuru\n",
    "import warnings\n",
    "warnings.filterwarnings(\"ignore\")\n",
    "\n",
    "import pandas as pd\n",
    "df = pd.read_csv('Final.csv')\n",
    "df.head()"
   ]
  },
  {
   "cell_type": "code",
   "execution_count": 89,
   "metadata": {},
   "outputs": [],
   "source": [
    "reaction_order = ['fb_love', 'fb_haha', 'fb_wow', 'fb_sad', 'fb_angry']\n",
    "df['top_reaction'] = df['top_reaction'].apply(lambda x: reaction_order.index(x))\n",
    "features = df.token_words\n",
    "actual_features = df.name\n",
    "custom_features = df.custom_token_words\n",
    "labels = df.top_reaction"
   ]
  },
  {
   "cell_type": "code",
   "execution_count": 90,
   "metadata": {},
   "outputs": [
    {
     "name": "stdout",
     "output_type": "stream",
     "text": [
      "top_reaction\n",
      "0    23615\n",
      "1    18652\n",
      "2    11575\n",
      "3     7316\n",
      "4     8359\n",
      "Name: name, dtype: int64\n"
     ]
    }
   ],
   "source": [
    "print(df.groupby('top_reaction').count().name)"
   ]
  },
  {
   "cell_type": "code",
   "execution_count": 91,
   "metadata": {},
   "outputs": [],
   "source": [
    "from sklearn.model_selection import train_test_split\n",
    "train_features, rest_features, train_labels, rest_labels = train_test_split(features, labels, test_size=.1, random_state=6848)\n",
    "val_features, test_features, val_labels, test_labels = train_test_split(rest_features, rest_labels, test_size=.7, random_state=6848)"
   ]
  },
  {
   "cell_type": "code",
   "execution_count": 92,
   "metadata": {},
   "outputs": [],
   "source": [
    "from sklearn.feature_extraction.text import CountVectorizer\n",
    "from sklearn.linear_model import LogisticRegression\n",
    "from sklearn.multiclass import OneVsRestClassifier\n",
    "from sklearn.pipeline import Pipeline\n",
    "from time import time\n",
    "import numpy as np\n",
    "from sklearn.metrics import accuracy_score"
   ]
  },
  {
   "cell_type": "code",
   "execution_count": 93,
   "metadata": {},
   "outputs": [
    {
     "data": {
      "text/plain": [
       "array([0, 1, 2, 3, 4])"
      ]
     },
     "execution_count": 93,
     "metadata": {},
     "output_type": "execute_result"
    }
   ],
   "source": [
    "np.unique(train_labels)"
   ]
  },
  {
   "cell_type": "code",
   "execution_count": 94,
   "metadata": {},
   "outputs": [],
   "source": [
    "def accuracy_summary(pipeline, x_train, y_train, x_test, y_test):\n",
    "    t0 = time()\n",
    "    sentiment_fit = pipeline.fit(x_train, y_train)\n",
    "    y_pred = sentiment_fit.predict(x_test)\n",
    "    train_test_time = time() - t0\n",
    "    accuracy = accuracy_score(y_test, y_pred)\n",
    "    print(\"accuracy score: {0:.2f}%\".format(accuracy*100))\n",
    "    print(\"train and test time: {0:.2f}s\".format(train_test_time))\n",
    "    print(\"-\"*80)\n",
    "    return accuracy, train_test_time"
   ]
  },
  {
   "cell_type": "code",
   "execution_count": 95,
   "metadata": {},
   "outputs": [],
   "source": [
    "\n",
    "cvec = CountVectorizer()\n",
    "lr = LogisticRegression(multi_class='ovr')\n",
    "n_features = np.arange(3000, 30000, 3000)\n",
    "\n",
    "def nfeature_accuracy_checker(vectorizer=cvec, n_features=n_features, stop_words=None, ngram_range=(1, 1), classifier=lr):\n",
    "    result = []\n",
    "    print (classifier)\n",
    "    print(\"\\n\")\n",
    "    for n in n_features:\n",
    "        vectorizer.set_params(stop_words=stop_words, max_features=n, ngram_range=ngram_range)\n",
    "        checker_pipeline = Pipeline([\n",
    "            ('vectorizer', vectorizer),\n",
    "            ('classifier', classifier)\n",
    "        ])\n",
    "        print(\"Validation result for {} features\".format(n))\n",
    "        nfeature_accuracy,tt_time = accuracy_summary(checker_pipeline, train_features, train_labels, val_features, val_labels)\n",
    "        result.append((n,nfeature_accuracy,tt_time))\n",
    "    return result"
   ]
  },
  {
   "cell_type": "code",
   "execution_count": 96,
   "metadata": {},
   "outputs": [
    {
     "name": "stdout",
     "output_type": "stream",
     "text": [
      "Unigram results without stopwords\n",
      "LogisticRegression(C=1.0, class_weight=None, dual=False, fit_intercept=True,\n",
      "                   intercept_scaling=1, l1_ratio=None, max_iter=100,\n",
      "                   multi_class='ovr', n_jobs=None, penalty='l2',\n",
      "                   random_state=None, solver='warn', tol=0.0001, verbose=0,\n",
      "                   warm_start=False)\n",
      "\n",
      "\n",
      "Validation result for 3000 features\n",
      "accuracy score: 54.20%\n",
      "train and test time: 4.36s\n",
      "--------------------------------------------------------------------------------\n",
      "Validation result for 6000 features\n",
      "accuracy score: 54.68%\n",
      "train and test time: 4.19s\n",
      "--------------------------------------------------------------------------------\n",
      "Validation result for 9000 features\n",
      "accuracy score: 56.07%\n",
      "train and test time: 4.09s\n",
      "--------------------------------------------------------------------------------\n",
      "Validation result for 12000 features\n",
      "accuracy score: 56.64%\n",
      "train and test time: 4.52s\n",
      "--------------------------------------------------------------------------------\n",
      "Validation result for 15000 features\n",
      "accuracy score: 56.50%\n",
      "train and test time: 4.39s\n",
      "--------------------------------------------------------------------------------\n",
      "Validation result for 18000 features\n",
      "accuracy score: 56.50%\n",
      "train and test time: 4.32s\n",
      "--------------------------------------------------------------------------------\n",
      "Validation result for 21000 features\n",
      "accuracy score: 56.35%\n",
      "train and test time: 5.18s\n",
      "--------------------------------------------------------------------------------\n",
      "Validation result for 24000 features\n",
      "accuracy score: 56.35%\n",
      "train and test time: 4.79s\n",
      "--------------------------------------------------------------------------------\n",
      "Validation result for 27000 features\n",
      "accuracy score: 56.35%\n",
      "train and test time: 4.47s\n",
      "--------------------------------------------------------------------------------\n",
      "CPU times: user 1min 9s, sys: 529 ms, total: 1min 10s\n",
      "Wall time: 40.3 s\n"
     ]
    }
   ],
   "source": [
    "%%time\n",
    "print(\"Unigram results without stopwords\")\n",
    "uwosw = nfeature_accuracy_checker()"
   ]
  },
  {
   "cell_type": "code",
   "execution_count": 97,
   "metadata": {},
   "outputs": [],
   "source": [
    "train_features, rest_features, train_labels, rest_labels = train_test_split(actual_features, labels, test_size=.1, random_state=6848)\n",
    "val_features, test_features, val_labels, test_labels = train_test_split(rest_features, rest_labels, test_size=.7, random_state=6848)"
   ]
  },
  {
   "cell_type": "code",
   "execution_count": 98,
   "metadata": {},
   "outputs": [
    {
     "name": "stdout",
     "output_type": "stream",
     "text": [
      "Unigram results with stopwords\n",
      "LogisticRegression(C=1.0, class_weight=None, dual=False, fit_intercept=True,\n",
      "                   intercept_scaling=1, l1_ratio=None, max_iter=100,\n",
      "                   multi_class='ovr', n_jobs=None, penalty='l2',\n",
      "                   random_state=None, solver='warn', tol=0.0001, verbose=0,\n",
      "                   warm_start=False)\n",
      "\n",
      "\n",
      "Validation result for 3000 features\n",
      "accuracy score: 53.38%\n",
      "train and test time: 6.85s\n",
      "--------------------------------------------------------------------------------\n",
      "Validation result for 6000 features\n",
      "accuracy score: 55.11%\n",
      "train and test time: 6.89s\n",
      "--------------------------------------------------------------------------------\n",
      "Validation result for 9000 features\n",
      "accuracy score: 56.07%\n",
      "train and test time: 6.81s\n",
      "--------------------------------------------------------------------------------\n",
      "Validation result for 12000 features\n",
      "accuracy score: 56.31%\n",
      "train and test time: 8.30s\n",
      "--------------------------------------------------------------------------------\n",
      "Validation result for 15000 features\n",
      "accuracy score: 56.98%\n",
      "train and test time: 8.44s\n",
      "--------------------------------------------------------------------------------\n",
      "Validation result for 18000 features\n",
      "accuracy score: 57.07%\n",
      "train and test time: 8.76s\n",
      "--------------------------------------------------------------------------------\n",
      "Validation result for 21000 features\n",
      "accuracy score: 57.27%\n",
      "train and test time: 9.05s\n",
      "--------------------------------------------------------------------------------\n",
      "Validation result for 24000 features\n",
      "accuracy score: 57.12%\n",
      "train and test time: 9.51s\n",
      "--------------------------------------------------------------------------------\n",
      "Validation result for 27000 features\n",
      "accuracy score: 57.03%\n",
      "train and test time: 9.02s\n",
      "--------------------------------------------------------------------------------\n",
      "CPU times: user 2min 9s, sys: 924 ms, total: 2min 9s\n",
      "Wall time: 1min 13s\n"
     ]
    }
   ],
   "source": [
    "%%time\n",
    "print(\"Unigram results with stopwords\")\n",
    "uwsw = nfeature_accuracy_checker()"
   ]
  },
  {
   "cell_type": "code",
   "execution_count": 99,
   "metadata": {},
   "outputs": [],
   "source": [
    "train_features, rest_features, train_labels, rest_labels = train_test_split(custom_features, labels, test_size=.1, random_state=6848)\n",
    "val_features, test_features, val_labels, test_labels = train_test_split(rest_features, rest_labels, test_size=.7, random_state=6848)"
   ]
  },
  {
   "cell_type": "code",
   "execution_count": 100,
   "metadata": {},
   "outputs": [
    {
     "name": "stdout",
     "output_type": "stream",
     "text": [
      "Unigram results with custom stopwords\n",
      "LogisticRegression(C=1.0, class_weight=None, dual=False, fit_intercept=True,\n",
      "                   intercept_scaling=1, l1_ratio=None, max_iter=100,\n",
      "                   multi_class='ovr', n_jobs=None, penalty='l2',\n",
      "                   random_state=None, solver='warn', tol=0.0001, verbose=0,\n",
      "                   warm_start=False)\n",
      "\n",
      "\n",
      "Validation result for 3000 features\n",
      "accuracy score: 54.39%\n",
      "train and test time: 4.43s\n",
      "--------------------------------------------------------------------------------\n",
      "Validation result for 6000 features\n",
      "accuracy score: 54.68%\n",
      "train and test time: 4.19s\n",
      "--------------------------------------------------------------------------------\n",
      "Validation result for 9000 features\n",
      "accuracy score: 55.92%\n",
      "train and test time: 5.78s\n",
      "--------------------------------------------------------------------------------\n",
      "Validation result for 12000 features\n",
      "accuracy score: 56.40%\n",
      "train and test time: 5.23s\n",
      "--------------------------------------------------------------------------------\n",
      "Validation result for 15000 features\n",
      "accuracy score: 56.26%\n",
      "train and test time: 5.86s\n",
      "--------------------------------------------------------------------------------\n",
      "Validation result for 18000 features\n",
      "accuracy score: 56.31%\n",
      "train and test time: 5.72s\n",
      "--------------------------------------------------------------------------------\n",
      "Validation result for 21000 features\n",
      "accuracy score: 56.26%\n",
      "train and test time: 5.67s\n",
      "--------------------------------------------------------------------------------\n",
      "Validation result for 24000 features\n",
      "accuracy score: 56.26%\n",
      "train and test time: 5.67s\n",
      "--------------------------------------------------------------------------------\n",
      "Validation result for 27000 features\n",
      "accuracy score: 56.26%\n",
      "train and test time: 5.15s\n",
      "--------------------------------------------------------------------------------\n",
      "CPU times: user 1min 19s, sys: 837 ms, total: 1min 20s\n",
      "Wall time: 47.7 s\n"
     ]
    }
   ],
   "source": [
    "%%time\n",
    "print(\"Unigram results with custom stopwords\")\n",
    "ucsw = nfeature_accuracy_checker()"
   ]
  },
  {
   "cell_type": "code",
   "execution_count": 105,
   "metadata": {},
   "outputs": [
    {
     "data": {
      "text/plain": [
       "<matplotlib.legend.Legend at 0x1a2ba78fd0>"
      ]
     },
     "execution_count": 105,
     "metadata": {},
     "output_type": "execute_result"
    },
    {
     "data": {
      "image/png": "[encoded data removed]",
      "text/plain": [
       "<Figure size 576x432 with 1 Axes>"
      ]
     },
     "metadata": {
      "needs_background": "light"
     },
     "output_type": "display_data"
    }
   ],
   "source": [
    "import matplotlib.pyplot as plt\n",
    "nfeatures_plot_ug = pd.DataFrame(uwsw,columns=['nfeatures','validation_accuracy','train_test_time'])\n",
    "nfeatures_plot_ug_wosw = pd.DataFrame(uwosw,columns=['nfeatures','validation_accuracy','train_test_time'])\n",
    "\n",
    "plt.figure(figsize=(8,6))\n",
    "plt.plot(nfeatures_plot_ug.nfeatures, nfeatures_plot_ug.validation_accuracy, label='Custom Stop Words')\n",
    "plt.plot(nfeatures_plot_ug_wosw.nfeatures, nfeatures_plot_ug_wosw.validation_accuracy,label='No Stop Words')\n",
    "plt.title(\"Usage of Custom Stop Words\")\n",
    "plt.xlabel(\"Number of features\")\n",
    "plt.ylabel(\"Validation set accuracy\")\n",
    "plt.legend()"
   ]
  },
  {
   "cell_type": "code",
   "execution_count": 106,
   "metadata": {},
   "outputs": [],
   "source": [
    "train_features, rest_features, train_labels, rest_labels = train_test_split(actual_features, labels, test_size=.1, random_state=6848)\n",
    "val_features, test_features, val_labels, test_labels = train_test_split(rest_features, rest_labels, test_size=.7, random_state=6848)"
   ]
  },
  {
   "cell_type": "code",
   "execution_count": 107,
   "metadata": {},
   "outputs": [
    {
     "name": "stdout",
     "output_type": "stream",
     "text": [
      "Bigram results with  Custom Stopwords\n",
      "LogisticRegression(C=1.0, class_weight=None, dual=False, fit_intercept=True,\n",
      "                   intercept_scaling=1, l1_ratio=None, max_iter=100,\n",
      "                   multi_class='ovr', n_jobs=None, penalty='l2',\n",
      "                   random_state=None, solver='warn', tol=0.0001, verbose=0,\n",
      "                   warm_start=False)\n",
      "\n",
      "\n",
      "Validation result for 3000 features\n",
      "accuracy score: 54.05%\n",
      "train and test time: 9.50s\n",
      "--------------------------------------------------------------------------------\n",
      "Validation result for 6000 features\n",
      "accuracy score: 55.01%\n",
      "train and test time: 10.06s\n",
      "--------------------------------------------------------------------------------\n",
      "Validation result for 9000 features\n",
      "accuracy score: 56.59%\n",
      "train and test time: 10.45s\n",
      "--------------------------------------------------------------------------------\n",
      "Validation result for 12000 features\n",
      "accuracy score: 57.22%\n",
      "train and test time: 10.48s\n",
      "--------------------------------------------------------------------------------\n",
      "Validation result for 15000 features\n",
      "accuracy score: 57.65%\n",
      "train and test time: 10.24s\n",
      "--------------------------------------------------------------------------------\n",
      "Validation result for 18000 features\n",
      "accuracy score: 57.55%\n",
      "train and test time: 10.87s\n",
      "--------------------------------------------------------------------------------\n",
      "Validation result for 21000 features\n",
      "accuracy score: 58.23%\n",
      "train and test time: 11.24s\n",
      "--------------------------------------------------------------------------------\n",
      "Validation result for 24000 features\n",
      "accuracy score: 58.61%\n",
      "train and test time: 11.28s\n",
      "--------------------------------------------------------------------------------\n",
      "Validation result for 27000 features\n",
      "accuracy score: 59.23%\n",
      "train and test time: 12.69s\n",
      "--------------------------------------------------------------------------------\n",
      "CPU times: user 2min 38s, sys: 1.49 s, total: 2min 40s\n",
      "Wall time: 1min 36s\n"
     ]
    }
   ],
   "source": [
    "%%time\n",
    "print(\"Bigram results\")\n",
    "feature_result_bg = nfeature_accuracy_checker(ngram_range=(1, 2))"
   ]
  },
  {
   "cell_type": "code",
   "execution_count": 108,
   "metadata": {},
   "outputs": [
    {
     "name": "stdout",
     "output_type": "stream",
     "text": [
      "Bigram results\n",
      "LogisticRegression(C=1.0, class_weight=None, dual=False, fit_intercept=True,\n",
      "                   intercept_scaling=1, l1_ratio=None, max_iter=100,\n",
      "                   multi_class='ovr', n_jobs=None, penalty='l2',\n",
      "                   random_state=None, solver='warn', tol=0.0001, verbose=0,\n",
      "                   warm_start=False)\n",
      "\n",
      "\n",
      "Validation result for 3000 features\n",
      "accuracy score: 53.91%\n",
      "train and test time: 14.43s\n",
      "--------------------------------------------------------------------------------\n",
      "Validation result for 6000 features\n",
      "accuracy score: 55.25%\n",
      "train and test time: 12.18s\n",
      "--------------------------------------------------------------------------------\n",
      "Validation result for 9000 features\n",
      "accuracy score: 56.83%\n",
      "train and test time: 13.60s\n",
      "--------------------------------------------------------------------------------\n",
      "Validation result for 12000 features\n",
      "accuracy score: 57.70%\n",
      "train and test time: 14.12s\n",
      "--------------------------------------------------------------------------------\n",
      "Validation result for 15000 features\n",
      "accuracy score: 57.51%\n",
      "train and test time: 14.25s\n",
      "--------------------------------------------------------------------------------\n",
      "Validation result for 18000 features\n",
      "accuracy score: 57.79%\n",
      "train and test time: 14.86s\n",
      "--------------------------------------------------------------------------------\n",
      "Validation result for 21000 features\n",
      "accuracy score: 58.18%\n",
      "train and test time: 15.03s\n",
      "--------------------------------------------------------------------------------\n",
      "Validation result for 24000 features\n",
      "accuracy score: 58.18%\n",
      "train and test time: 15.69s\n",
      "--------------------------------------------------------------------------------\n",
      "Validation result for 27000 features\n",
      "accuracy score: 58.80%\n",
      "train and test time: 17.05s\n",
      "--------------------------------------------------------------------------------\n",
      "CPU times: user 3min 18s, sys: 2.65 s, total: 3min 20s\n",
      "Wall time: 2min 11s\n"
     ]
    }
   ],
   "source": [
    "%%time\n",
    "print(\"Bigram results\")\n",
    "feature_result_tg = nfeature_accuracy_checker(ngram_range=(1, 3))"
   ]
  },
  {
   "cell_type": "code",
   "execution_count": 110,
   "metadata": {},
   "outputs": [
    {
     "data": {
      "text/plain": [
       "<matplotlib.legend.Legend at 0x1a39b38ad0>"
      ]
     },
     "execution_count": 110,
     "metadata": {},
     "output_type": "execute_result"
    },
    {
     "data": {
      "image/png": "[encoded data removed]",
      "text/plain": [
       "<Figure size 576x432 with 1 Axes>"
      ]
     },
     "metadata": {
      "needs_background": "light"
     },
     "output_type": "display_data"
    }
   ],
   "source": [
    "nfeatures_plot_tg = pd.DataFrame(feature_result_tg,columns=['nfeatures','validation_accuracy','train_test_time'])\n",
    "nfeatures_plot_bg = pd.DataFrame(feature_result_bg,columns=['nfeatures','validation_accuracy','train_test_time'])\n",
    "nfeatures_plot_ug = pd.DataFrame(ucsw,columns=['nfeatures','validation_accuracy','train_test_time'])\n",
    "\n",
    "plt.figure(figsize=(8,6))\n",
    "plt.plot(nfeatures_plot_tg.nfeatures, nfeatures_plot_tg.validation_accuracy,label='trigram')\n",
    "plt.plot(nfeatures_plot_bg.nfeatures, nfeatures_plot_bg.validation_accuracy,label='bigram')\n",
    "plt.plot(nfeatures_plot_ug.nfeatures, nfeatures_plot_ug.validation_accuracy, label='unigram')\n",
    "plt.title(\"N-gram Comparision\")\n",
    "plt.xlabel(\"Number of features\")\n",
    "plt.ylabel(\"Validation set accuracy\")\n",
    "plt.legend()"
   ]
  },
  {
   "cell_type": "code",
   "execution_count": 112,
   "metadata": {},
   "outputs": [
    {
     "name": "stdout",
     "output_type": "stream",
     "text": [
      "Bigram results\n",
      "LogisticRegression(C=1.0, class_weight=None, dual=False, fit_intercept=True,\n",
      "                   intercept_scaling=1, l1_ratio=None, max_iter=100,\n",
      "                   multi_class='ovr', n_jobs=None, penalty='l2',\n",
      "                   random_state=None, solver='warn', tol=0.0001, verbose=0,\n",
      "                   warm_start=False)\n",
      "\n",
      "\n",
      "Validation result for 5000 features\n",
      "accuracy score: 54.05%\n",
      "train and test time: 12.87s\n",
      "--------------------------------------------------------------------------------\n",
      "Validation result for 10000 features\n",
      "accuracy score: 56.74%\n",
      "train and test time: 12.85s\n",
      "--------------------------------------------------------------------------------\n",
      "Validation result for 15000 features\n",
      "accuracy score: 57.51%\n",
      "train and test time: 13.22s\n",
      "--------------------------------------------------------------------------------\n",
      "Validation result for 20000 features\n",
      "accuracy score: 58.13%\n",
      "train and test time: 13.42s\n",
      "--------------------------------------------------------------------------------\n",
      "Validation result for 25000 features\n",
      "accuracy score: 58.61%\n",
      "train and test time: 14.57s\n",
      "--------------------------------------------------------------------------------\n",
      "Validation result for 30000 features\n",
      "accuracy score: 58.94%\n",
      "train and test time: 15.33s\n",
      "--------------------------------------------------------------------------------\n",
      "Validation result for 35000 features\n",
      "accuracy score: 58.47%\n",
      "train and test time: 15.97s\n",
      "--------------------------------------------------------------------------------\n",
      "Validation result for 40000 features\n",
      "accuracy score: 58.66%\n",
      "train and test time: 16.47s\n",
      "--------------------------------------------------------------------------------\n",
      "Validation result for 45000 features\n",
      "accuracy score: 58.94%\n",
      "train and test time: 17.17s\n",
      "--------------------------------------------------------------------------------\n"
     ]
    }
   ],
   "source": [
    "print(\"Bigram results\")\n",
    "feature_result_tg = nfeature_accuracy_checker(ngram_range=(1, 3), n_features=np.arange(5000, 50000, 5000))"
   ]
  },
  {
   "cell_type": "code",
   "execution_count": 113,
   "metadata": {},
   "outputs": [
    {
     "name": "stdout",
     "output_type": "stream",
     "text": [
      "LogisticRegression(C=1.0, class_weight=None, dual=False, fit_intercept=True,\n",
      "                   intercept_scaling=1, l1_ratio=None, max_iter=100,\n",
      "                   multi_class='ovr', n_jobs=None, penalty='l2',\n",
      "                   random_state=None, solver='warn', tol=0.0001, verbose=0,\n",
      "                   warm_start=False)\n",
      "\n",
      "\n",
      "Validation result for 5000 features\n",
      "accuracy score: 54.48%\n",
      "train and test time: 8.42s\n",
      "--------------------------------------------------------------------------------\n",
      "Validation result for 10000 features\n",
      "accuracy score: 56.98%\n",
      "train and test time: 10.07s\n",
      "--------------------------------------------------------------------------------\n",
      "Validation result for 15000 features\n",
      "accuracy score: 57.65%\n",
      "train and test time: 11.52s\n",
      "--------------------------------------------------------------------------------\n",
      "Validation result for 20000 features\n",
      "accuracy score: 58.23%\n",
      "train and test time: 12.90s\n",
      "--------------------------------------------------------------------------------\n",
      "Validation result for 25000 features\n",
      "accuracy score: 58.90%\n",
      "train and test time: 12.90s\n",
      "--------------------------------------------------------------------------------\n",
      "Validation result for 30000 features\n",
      "accuracy score: 58.75%\n",
      "train and test time: 12.20s\n",
      "--------------------------------------------------------------------------------\n",
      "Validation result for 35000 features\n",
      "accuracy score: 58.90%\n",
      "train and test time: 12.65s\n",
      "--------------------------------------------------------------------------------\n",
      "Validation result for 40000 features\n",
      "accuracy score: 58.66%\n",
      "train and test time: 13.09s\n",
      "--------------------------------------------------------------------------------\n",
      "Validation result for 45000 features\n",
      "accuracy score: 59.18%\n",
      "train and test time: 13.60s\n",
      "--------------------------------------------------------------------------------\n"
     ]
    }
   ],
   "source": [
    "feature_result_bg = nfeature_accuracy_checker(ngram_range=(1, 2), n_features=np.arange(5000, 50000, 5000))"
   ]
  },
  {
   "cell_type": "code",
   "execution_count": 114,
   "metadata": {},
   "outputs": [
    {
     "data": {
      "text/plain": [
       "<matplotlib.legend.Legend at 0x1a39b38e90>"
      ]
     },
     "execution_count": 114,
     "metadata": {},
     "output_type": "execute_result"
    },
    {
     "data": {
      "image/png": "[encoded data removed]",
      "text/plain": [
       "<Figure size 576x432 with 1 Axes>"
      ]
     },
     "metadata": {
      "needs_background": "light"
     },
     "output_type": "display_data"
    }
   ],
   "source": [
    "nfeatures_plot_tg = pd.DataFrame(feature_result_tg,columns=['nfeatures','validation_accuracy','train_test_time'])\n",
    "nfeatures_plot_bg = pd.DataFrame(feature_result_bg,columns=['nfeatures','validation_accuracy','train_test_time'])\n",
    "nfeatures_plot_ug = pd.DataFrame(ucsw,columns=['nfeatures','validation_accuracy','train_test_time'])\n",
    "\n",
    "plt.figure(figsize=(8,6))\n",
    "plt.plot(nfeatures_plot_tg.nfeatures, nfeatures_plot_tg.validation_accuracy,label='trigram')\n",
    "plt.plot(nfeatures_plot_bg.nfeatures, nfeatures_plot_bg.validation_accuracy,label='bigram')\n",
    "plt.title(\"N-gram Comparision\")\n",
    "plt.xlabel(\"Number of features\")\n",
    "plt.ylabel(\"Validation set accuracy\")\n",
    "plt.legend()"
   ]
  },
  {
   "cell_type": "code",
   "execution_count": null,
   "metadata": {},
   "outputs": [],
   "source": []
  }
 ],
 "metadata": {
  "kernelspec": {
   "display_name": "Python 3",
   "language": "python",
   "name": "python3"
  },
  "language_info": {
   "codemirror_mode": {
    "name": "ipython",
    "version": 3
   },
   "file_extension": ".py",
   "mimetype": "text/x-python",
   "name": "python",
   "nbconvert_exporter": "python",
   "pygments_lexer": "ipython3",
   "version": "3.7.4"
  }
 },
 "nbformat": 4,
 "nbformat_minor": 2
}
